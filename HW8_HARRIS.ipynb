{
 "cells": [
  {
   "cell_type": "markdown",
   "metadata": {},
   "source": [
    "# Physics 325, Spring 2020,\n",
    "# Josh Harris\n",
    "# HW8: Exercise 4.4"
   ]
  },
  {
   "cell_type": "code",
   "execution_count": 71,
   "metadata": {},
   "outputs": [
    {
     "name": "stdout",
     "output_type": "stream",
     "text": [
      "1.5707962742034223\n",
      "Wall time: 376 ms\n"
     ]
    }
   ],
   "source": [
    "%%time\n",
    "import numpy as np \n",
    "\n",
    "num_slices = 100000\n",
    "intg = 0.0\n",
    "k = 1\n",
    "height = 2 / (num_slices)\n",
    "\n",
    "%timeit\n",
    "for s in range (num_slices):\n",
    "    x = (-1.0) + float(height*k)\n",
    "    \n",
    "    y_k = np.sqrt(1 - (x**2))\n",
    "    \n",
    "    intg = intg + ((height)*(y_k))\n",
    "    \n",
    "    k = k + 1\n",
    "    \n",
    "print (intg)\n",
    "    \n",
    "    "
   ]
  },
  {
   "cell_type": "code",
   "execution_count": null,
   "metadata": {},
   "outputs": [],
   "source": []
  },
  {
   "cell_type": "code",
   "execution_count": null,
   "metadata": {},
   "outputs": [],
   "source": []
  }
 ],
 "metadata": {
  "kernelspec": {
   "display_name": "Python 3",
   "language": "python",
   "name": "python3"
  },
  "language_info": {
   "codemirror_mode": {
    "name": "ipython",
    "version": 3
   },
   "file_extension": ".py",
   "mimetype": "text/x-python",
   "name": "python",
   "nbconvert_exporter": "python",
   "pygments_lexer": "ipython3",
   "version": "3.7.4"
  }
 },
 "nbformat": 4,
 "nbformat_minor": 2
}
